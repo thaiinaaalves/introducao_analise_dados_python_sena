{
  "nbformat": 4,
  "nbformat_minor": 0,
  "metadata": {
    "colab": {
      "provenance": [],
      "authorship_tag": "ABX9TyMmI0jOaRPtm0M7KVu8Zjtm",
      "include_colab_link": true
    },
    "kernelspec": {
      "name": "python3",
      "display_name": "Python 3"
    },
    "language_info": {
      "name": "python"
    }
  },
  "cells": [
    {
      "cell_type": "markdown",
      "metadata": {
        "id": "view-in-github",
        "colab_type": "text"
      },
      "source": [
        "<a href=\"https://colab.research.google.com/github/thaiinaaalves/introducao_analise_dados_python_sena/blob/main/introducao_analise_dados_python_senai.ipynb\" target=\"_parent\"><img src=\"https://colab.research.google.com/assets/colab-badge.svg\" alt=\"Open In Colab\"/></a>"
      ]
    },
    {
      "cell_type": "markdown",
      "source": [
        "*Aula 1 - Prof Tom*"
      ],
      "metadata": {
        "id": "gyZdB4MrMpcc"
      }
    },
    {
      "cell_type": "markdown",
      "source": [
        "Aula 09/10/2024 - Introdução ao Python"
      ],
      "metadata": {
        "id": "vSgZXhs8JoEj"
      }
    },
    {
      "cell_type": "code",
      "execution_count": null,
      "metadata": {
        "id": "gx4w2IydG-Rx"
      },
      "outputs": [],
      "source": [
        "#Declarar comentário\n",
        "'''Comentários longos'''"
      ]
    },
    {
      "cell_type": "code",
      "source": [
        "a=5\n",
        "b=3\n",
        "print(a+b)"
      ],
      "metadata": {
        "id": "nAfkvo55JlxD"
      },
      "execution_count": null,
      "outputs": []
    },
    {
      "cell_type": "code",
      "source": [
        "a=int(input('Qual é o primeiro valor?:'))"
      ],
      "metadata": {
        "id": "t1mF_l8JVcFw",
        "colab": {
          "base_uri": "https://localhost:8080/"
        },
        "outputId": "2d6da373-295e-4e42-bd44-ab7c34bc069d"
      },
      "execution_count": null,
      "outputs": [
        {
          "name": "stdout",
          "output_type": "stream",
          "text": [
            "Qual é o primeiro valor?:5\n"
          ]
        }
      ]
    },
    {
      "cell_type": "code",
      "source": [
        "#Operadores Lógicos e Matemáticos\n",
        "''' + adição\n",
        "    - subtração\n",
        "    * multiplicação\n",
        "    / divisão\n",
        "   ** exponenciação\n",
        "\n",
        "#Operaores lógicos\n",
        "   == igualdade\n",
        "   != diferente\n",
        "    > maior\n",
        "   >= maior ou igual\n",
        "    < menor\n",
        "   <= menor ou igual\n",
        "\n",
        "   if se\n",
        " else senão\n",
        " elif senão se'''"
      ],
      "metadata": {
        "id": "IQXnx6BsPSFf"
      },
      "execution_count": null,
      "outputs": []
    },
    {
      "cell_type": "code",
      "source": [
        "#Estrutura de Decisão\n",
        "if(a>b):\n",
        "   print('A maior que B')\n",
        "elif(a<b):\n",
        "   print('A menor que B')\n",
        "else:\n",
        "   print('A é igual a B')"
      ],
      "metadata": {
        "colab": {
          "base_uri": "https://localhost:8080/"
        },
        "id": "AShKhteZTsOq",
        "outputId": "3fc9f868-c4b3-40e5-f96c-9614cfaf6741"
      },
      "execution_count": null,
      "outputs": [
        {
          "output_type": "stream",
          "name": "stdout",
          "text": [
            "A maior que B\n"
          ]
        }
      ]
    },
    {
      "cell_type": "code",
      "source": [
        "P1=5\n",
        "P2=6\n",
        "P3=9\n",
        "mean=(P1+P2+P3)/3\n",
        "print(mean)"
      ],
      "metadata": {
        "id": "WiNgW47yk140",
        "colab": {
          "base_uri": "https://localhost:8080/"
        },
        "outputId": "52d57f23-7130-49be-d4c9-fa8ea305229c"
      },
      "execution_count": null,
      "outputs": [
        {
          "output_type": "stream",
          "name": "stdout",
          "text": [
            "6.666666666666667\n"
          ]
        }
      ]
    },
    {
      "cell_type": "code",
      "source": [
        "hipotenusa=(2**2+3**2)**(1/2)\n",
        "print(hipotenusa)"
      ],
      "metadata": {
        "colab": {
          "base_uri": "https://localhost:8080/"
        },
        "id": "5sSNSTcy279x",
        "outputId": "516641d9-7283-4363-b3b0-430ef96e9534"
      },
      "execution_count": null,
      "outputs": [
        {
          "output_type": "stream",
          "name": "stdout",
          "text": [
            "3.605551275463989\n"
          ]
        }
      ]
    },
    {
      "cell_type": "code",
      "source": [
        "salario=float(input('Qual é o valor do salário atual?:'))"
      ],
      "metadata": {
        "id": "_1FjS2JzySTe",
        "colab": {
          "base_uri": "https://localhost:8080/"
        },
        "outputId": "cca4fcc6-5193-497c-a23c-e2830ab99f32"
      },
      "execution_count": null,
      "outputs": [
        {
          "name": "stdout",
          "output_type": "stream",
          "text": [
            "Qual é o valor do salário atual?:4.5\n"
          ]
        }
      ]
    },
    {
      "cell_type": "code",
      "source": [
        "percentual=float(input('Qual é o valor do aumento desejado?:'))"
      ],
      "metadata": {
        "colab": {
          "base_uri": "https://localhost:8080/"
        },
        "id": "X06DFn6At9Un",
        "outputId": "2188e5e5-9883-4242-9d78-f9ef86425987"
      },
      "execution_count": null,
      "outputs": [
        {
          "name": "stdout",
          "output_type": "stream",
          "text": [
            "Qual é o valor do aumento desejado?:2.6\n"
          ]
        }
      ]
    },
    {
      "cell_type": "code",
      "source": [
        "print(salario+(salario*(percentual/100)))"
      ],
      "metadata": {
        "id": "VVqsttDct0LZ",
        "colab": {
          "base_uri": "https://localhost:8080/"
        },
        "outputId": "13473ffd-02ed-4bde-98db-4ceef9a93fdf"
      },
      "execution_count": null,
      "outputs": [
        {
          "output_type": "stream",
          "name": "stdout",
          "text": [
            "4.617\n"
          ]
        }
      ]
    },
    {
      "cell_type": "code",
      "source": [
        "PI=3.1415\n",
        "roundedPI=round(PI,2)\n",
        "print(roundedPI)"
      ],
      "metadata": {
        "id": "h2YyumLCroXv",
        "colab": {
          "base_uri": "https://localhost:8080/"
        },
        "outputId": "d1f93f85-1a9b-424f-d5b3-2c267c64f57b"
      },
      "execution_count": null,
      "outputs": [
        {
          "output_type": "stream",
          "name": "stdout",
          "text": [
            "3.14\n"
          ]
        }
      ]
    },
    {
      "cell_type": "code",
      "source": [
        "raio=float(input('Qual é o raio?'))"
      ],
      "metadata": {
        "colab": {
          "base_uri": "https://localhost:8080/"
        },
        "id": "hLsnpWq6xdDw",
        "outputId": "37e046ee-8c6b-41c1-c479-7cbe32bcd037"
      },
      "execution_count": null,
      "outputs": [
        {
          "name": "stdout",
          "output_type": "stream",
          "text": [
            "Qual é o raio?2\n"
          ]
        }
      ]
    },
    {
      "cell_type": "code",
      "source": [
        "altura=float(input('Qual é a altura?'))"
      ],
      "metadata": {
        "colab": {
          "base_uri": "https://localhost:8080/"
        },
        "id": "5JcK6mHvx0dK",
        "outputId": "f659452a-4d30-4f8b-e121-228e7792c8cc"
      },
      "execution_count": null,
      "outputs": [
        {
          "name": "stdout",
          "output_type": "stream",
          "text": [
            "Qual é a altura?3\n"
          ]
        }
      ]
    },
    {
      "cell_type": "code",
      "source": [
        "print(PI*raio*altura)"
      ],
      "metadata": {
        "colab": {
          "base_uri": "https://localhost:8080/"
        },
        "id": "GSycJTigyFpf",
        "outputId": "44054a8a-95ab-4ed4-dd5f-310df7fb9ba7"
      },
      "execution_count": null,
      "outputs": [
        {
          "output_type": "stream",
          "name": "stdout",
          "text": [
            "18.849\n"
          ]
        }
      ]
    },
    {
      "cell_type": "markdown",
      "source": [
        "*Aula 2* - 10/10/2024 - Conceitos básicos FOR e WHILE"
      ],
      "metadata": {
        "id": "T1GG3p1MeOku"
      }
    },
    {
      "cell_type": "code",
      "source": [
        "for n1 in [8,6,9,10,12]:\n",
        "  print(n1)"
      ],
      "metadata": {
        "id": "AL3wZOYzeQzN"
      },
      "execution_count": null,
      "outputs": []
    },
    {
      "cell_type": "code",
      "source": [
        "n2=[3,7,9,10,13]\n",
        "for n2 in n2:\n",
        "  print(n2)"
      ],
      "metadata": {
        "id": "SuNwzShPefEP"
      },
      "execution_count": null,
      "outputs": []
    },
    {
      "cell_type": "code",
      "source": [
        "for num1 in ['Thiago', 'Guilherme', 'R', 'Sergio', 'Java1', 'Java2', 'R']:\n",
        "    if num1 =='R':\n",
        "        print(num1)"
      ],
      "metadata": {
        "id": "UTY29RV6ekil"
      },
      "execution_count": null,
      "outputs": []
    },
    {
      "cell_type": "code",
      "source": [
        "for num1 in ['Thiago', 'Guilherme', 'R', 'Sergio', 'Java1', 'Java2', 'R']:\n",
        "    print(num1)"
      ],
      "metadata": {
        "id": "RGhix6NTel-c"
      },
      "execution_count": null,
      "outputs": []
    },
    {
      "cell_type": "code",
      "source": [
        "for num1 in ['Thiago', 'Guilherme', 'R', 'Sergio', 'Java1', 'Java2', 'R']:\n",
        "    print(num1 =='R')"
      ],
      "metadata": {
        "id": "ZtzinvGzene0"
      },
      "execution_count": null,
      "outputs": []
    },
    {
      "cell_type": "code",
      "source": [
        "for pares in range(2,101,2):\n",
        "  print(pares, end=\" \")"
      ],
      "metadata": {
        "id": "mMLQ4IqgeoRx"
      },
      "execution_count": null,
      "outputs": []
    },
    {
      "cell_type": "code",
      "source": [
        "valores=[5,10,15,20,25,30,35,40,45,50]\n",
        "valor_maximo=max(valores)\n",
        "valor_minimo=min(valores)\n",
        "media=sum(valores)/len(valores)\n",
        "print(valor_maximo)\n",
        "print(valor_minimo)\n",
        "print(media)"
      ],
      "metadata": {
        "id": "Qj1NOUGDep9a"
      },
      "execution_count": null,
      "outputs": []
    },
    {
      "cell_type": "code",
      "source": [
        "x=1\n",
        "while x<10:\n",
        "  print(x)\n",
        "  x=x+1"
      ],
      "metadata": {
        "id": "bj5W3QaKf_sV"
      },
      "execution_count": null,
      "outputs": []
    },
    {
      "cell_type": "code",
      "source": [
        "#Exemplo\n",
        "notas=0\n",
        "qnt_notas_info=0\n",
        "while True:\n",
        "  nota=float(input('Informe a nota(-1 para finalizar):'))\n",
        "  if(nota==-1)\n",
        "  break\n",
        "  notas=notas+nota\n",
        "  qnt_notas=qnt_notas_info +1\n",
        "  if qnt_notas_info>0:\n",
        "    media=notas/qnt_notas_info\n",
        "    print(f'Quantidade de notas informadas: {qnt_notas_info}')\n",
        "    print(f'Média: {media:.2f}')\n",
        "  else:\n",
        "    print('Nenhuma nota informada')"
      ],
      "metadata": {
        "id": "4dQpnTGGgBQg"
      },
      "execution_count": null,
      "outputs": []
    }
  ]
}